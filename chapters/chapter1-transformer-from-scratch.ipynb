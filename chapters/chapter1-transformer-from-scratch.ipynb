{
  "cells": [
    {
      "cell_type": "markdown",
      "source": [
        "# Transformer from Scratch\n",
        "\n",
        "A Transformer based on the architecture presented in Vaswani et al. (2017) Attention is all you need. I train it on the complete works of Shakespeare for 1 epoch.  \n",
        "  \n",
        "  \n",
        "Here's an example completion from the trained architecture (prompt in *italics*):  \n",
        "\n",
        "> *This is it!*_] This is a god of love, I fear the shot out. I  \n",
        "will be a pattern. Let him comply with the pikes. I am as the  \n",
        "fishes in the moon, the highest compulsion of his endowments are to  \n",
        "the trumpet, and besmear themselves to the Altar.\n",
        "\n",
        "> FIRST SOLDIER.  \n",
        "What is the matter that I am,  \n",
        "That I might not wish the Turk?\n",
        "\n",
        "> THIRD SOLDIER.  \n",
        "Faith, he did; and he does’t not?\n",
        "\n",
        "> FIRST CLOWN.  \n",
        "He does, sir.\n",
        "\n",
        "> FIRST CLOWN.  \n",
        "Ay, he is mad, sir, he was not mad and drinking to say he was  \n",
        "the hostess of a knave   \n",
        "  \n",
        "  For the project I only allowed myself to look at the Attention is All You Need paper except for two occasions: when I got confused about what $d_{model}$ meant and quickly checked the shape of the input for the attention layer at [The Illustrated Transformer](https://jalammar.github.io/illustrated-transformer/) and when I was writing the sampling function (which I copied with only small modifications from [here](https://github.com/ckkissane/deep_learning_curriculum/blob/master/solutions/1_Transformers.ipynb))"
      ],
      "metadata": {
        "id": "mAKvOh8WHl3c"
      }
    },
    {
      "cell_type": "markdown",
      "metadata": {
        "id": "2Lq5lVPe0EKh"
      },
      "source": [
        "# Set up\n",
        "\n",
        "Import some things we will need later and define the default device and types we will use for the model and data."
      ]
    },
    {
      "cell_type": "code",
      "execution_count": null,
      "metadata": {
        "id": "peeK5qf7ztqr"
      },
      "outputs": [],
      "source": [
        "from collections import OrderedDict\n",
        "import torch\n",
        "import torch.nn as nn\n",
        "import torch.nn.functional as F\n",
        "import torch.optim as optim\n",
        "from torch.utils.data import DataLoader\n",
        "from torch.utils.data import sampler\n",
        "from matplotlib import pyplot as plt\n",
        "\n",
        "factory_kwargs = {\"device\":\"cuda\", \"dtype\":torch.float}\n",
        "plt.rcParams[\"figure.figsize\"] = (8,6)"
      ]
    },
    {
      "cell_type": "markdown",
      "metadata": {
        "id": "_eO7FVxt4hGd"
      },
      "source": [
        "# Creating the architecture\n",
        "Some notation I'll use:  \n",
        "* N = batch size  \n",
        "* T = sequence length  \n",
        "* V = vocabulary size  \n",
        "* D = dimension of the model\n",
        "* H = hidden dimmension in the feed-forward NN"
      ]
    },
    {
      "cell_type": "markdown",
      "metadata": {
        "id": "XsQ-TlSKAMBv"
      },
      "source": [
        "## Embedding"
      ]
    },
    {
      "cell_type": "code",
      "execution_count": null,
      "metadata": {
        "id": "GwBdbSnrucqI"
      },
      "outputs": [],
      "source": [
        "class Embedding(nn.Module):\n",
        "  \"\"\"Maps sequences of integers from 0 to V (corresponding to a word in\n",
        "  the vocabulary) to a corresponding sequence of embedding vectors\"\"\"\n",
        "\n",
        "  def __init__(self, embed_dim, len_vocab, device=\"cpu\", dtype=torch.float):\n",
        "    super().__init__()\n",
        "    self.embed_mat = nn.Parameter(torch.empty(len_vocab, embed_dim,\n",
        "                                              device=device, dtype=dtype))\n",
        "    nn.init.xavier_uniform_(self.embed_mat)\n",
        "\n",
        "  def forward(self, x):\n",
        "    \"\"\"\n",
        "    input: Tensor of shape (N, T)\n",
        "    output: Tensor of shape (N, T, D)\"\"\"\n",
        "    return self.embed_mat[x, :]"
      ]
    },
    {
      "cell_type": "code",
      "execution_count": null,
      "metadata": {
        "colab": {
          "base_uri": "https://localhost:8080/"
        },
        "id": "iDl6NgkFdQ51",
        "outputId": "abf96212-6945-4d2a-80f1-cd82450219aa"
      },
      "outputs": [
        {
          "output_type": "execute_result",
          "data": {
            "text/plain": [
              "torch.Size([9, 35, 8])"
            ]
          },
          "metadata": {},
          "execution_count": 3
        }
      ],
      "source": [
        "N, T, D, V = 9, 35, 8, 91\n",
        "x = torch.randint(0, V, (N, T), device=factory_kwargs[\"device\"])\n",
        "E = Embedding(D, V, **factory_kwargs)\n",
        "E(x).shape"
      ]
    },
    {
      "cell_type": "code",
      "execution_count": null,
      "metadata": {
        "id": "qfAgebTi4leK"
      },
      "outputs": [],
      "source": [
        "class PositionalEmbedding(nn.Module):\n",
        "  \"\"\"Adds a positional embedding matrix to the input. It also applies dropout\n",
        "  on the result using p=0.1\"\"\"\n",
        "\n",
        "  def __init__(self, embed_dim, max_len=200, device=\"cpu\", dtype=torch.float):\n",
        "    \"\"\"\n",
        "    input:\n",
        "    seq_len: Number of tokens in the input (assumming shorter inputs are padded\n",
        "    to get a consistent length)\n",
        "    embed_dim: Dimension of embedding space\n",
        "    \"\"\"\n",
        "    super().__init__()\n",
        "    self.n_param = 10000\n",
        "    assert embed_dim%2 == 0, \"embed_dim must be divisible by 2\"\n",
        "\n",
        "    self.embed_matrix = torch.zeros(max_len, embed_dim, device=device, dtype=dtype)\n",
        "    seq_pos = torch.arange(max_len, device=device)\n",
        "    embed_pos = torch.arange(embed_dim//2, device=device)\n",
        "    self.embed_matrix[:, ::2] = torch.sin(seq_pos.unsqueeze(1)/\n",
        "                                          (self.n_param**(2*embed_pos/embed_dim)))\n",
        "    self.embed_matrix[:, 1::2] = torch.cos(seq_pos.unsqueeze(1)/\n",
        "                                          (self.n_param**(2*embed_pos/embed_dim)))\n",
        "    self.dropout = nn.Dropout(p=0.1)\n",
        "\n",
        "  def forward(self, x):\n",
        "    \"\"\"\n",
        "    input: Tensor of shape (N, T, D)\n",
        "    output: Returns the input plus the positional embedding\n",
        "    \"\"\"\n",
        "    return self.dropout(x + self.embed_matrix[:x.shape[-2]].unsqueeze(0))"
      ]
    },
    {
      "cell_type": "markdown",
      "metadata": {
        "id": "yaM1_Mgp_9zI"
      },
      "source": [
        "Without dropout, we can compare the embedding to the results seen [here](https://machinelearningmastery.com/a-gentle-introduction-to-positional-encoding-in-transformer-models-part-1/#:~:text=To%20understand%20the%20above%20expression)"
      ]
    },
    {
      "cell_type": "code",
      "execution_count": null,
      "metadata": {
        "colab": {
          "base_uri": "https://localhost:8080/"
        },
        "id": "wxXiTXOC7AZh",
        "outputId": "dc936576-7c4b-472e-c429-ccccfc97cade"
      },
      "outputs": [
        {
          "output_type": "execute_result",
          "data": {
            "text/plain": [
              "torch.Size([5, 35, 4])"
            ]
          },
          "metadata": {},
          "execution_count": 5
        }
      ],
      "source": [
        "N, T, D = 5, 35, 4\n",
        "x = torch.zeros(N, T, D, **factory_kwargs)\n",
        "PE = PositionalEmbedding(D, **factory_kwargs)\n",
        "PE(x).shape"
      ]
    },
    {
      "cell_type": "markdown",
      "metadata": {
        "id": "020ELwd2AQa-"
      },
      "source": [
        "## Attention Layer and Multihead Attention"
      ]
    },
    {
      "cell_type": "code",
      "execution_count": null,
      "metadata": {
        "id": "CFhSTQy2clA2"
      },
      "outputs": [],
      "source": [
        "def create_mask(seq_len, device=\"cpu\", dtype=torch.float):\n",
        "  \"\"\"Creates a triangular matrix which corresponds to a mask that stops the\n",
        "  prediction of a position from attending to previous positions\"\"\"\n",
        "  mask = (-1e10)*torch.ones(seq_len, seq_len, device=device, dtype=dtype)\n",
        "  mask = torch.triu(mask, 1)\n",
        "  return mask"
      ]
    },
    {
      "cell_type": "code",
      "execution_count": null,
      "metadata": {
        "colab": {
          "base_uri": "https://localhost:8080/"
        },
        "id": "X4at5V1LgAXp",
        "outputId": "f6eef89b-95ba-4c66-fde1-154274885761"
      },
      "outputs": [
        {
          "output_type": "execute_result",
          "data": {
            "text/plain": [
              "tensor([[ 0.0000e+00, -1.0000e+10, -1.0000e+10, -1.0000e+10],\n",
              "        [ 0.0000e+00,  0.0000e+00, -1.0000e+10, -1.0000e+10],\n",
              "        [ 0.0000e+00,  0.0000e+00,  0.0000e+00, -1.0000e+10],\n",
              "        [ 0.0000e+00,  0.0000e+00,  0.0000e+00,  0.0000e+00]])"
            ]
          },
          "metadata": {},
          "execution_count": 7
        }
      ],
      "source": [
        "create_mask(4)"
      ]
    },
    {
      "cell_type": "code",
      "execution_count": null,
      "metadata": {
        "id": "DlnLFvg5AJjR"
      },
      "outputs": [],
      "source": [
        "class AttentionLayer(nn.Module):\n",
        "  \"\"\"A single-headed attention layer\"\"\"\n",
        "\n",
        "  def __init__(self, d_model, v_dim, self_mask=True, q_dim=None,\n",
        "               device=\"cpu\", dtype=torch.float):\n",
        "    \"\"\"\n",
        "    input:\n",
        "    d_model: Model's dimension\n",
        "    v_dim: Dimension of output tensor\n",
        "    self_mask: if True, applies the diagonal mask constructed with the function\n",
        "    create_mask\n",
        "    q_dim: Number of queries (if None default to v_dim)\n",
        "    \"\"\"\n",
        "\n",
        "    super().__init__()\n",
        "    kwargs = {\"device\": device, \"dtype\": dtype}\n",
        "    if q_dim == None:\n",
        "      q_dim = v_dim\n",
        "    self.q_dim = q_dim\n",
        "    self.has_mask = self_mask\n",
        "    self.kwargs = kwargs\n",
        "\n",
        "    self.Wq = nn.Parameter(torch.empty(q_dim, d_model, **kwargs))\n",
        "    nn.init.xavier_uniform_(self.Wq)\n",
        "    self.bq = nn.Parameter(torch.zeros(q_dim, **kwargs))\n",
        "    self.Wk = nn.Parameter(torch.empty(q_dim, d_model, **kwargs))\n",
        "    nn.init.xavier_uniform_(self.Wk)\n",
        "    self.bk = nn.Parameter(torch.zeros(q_dim, **kwargs))\n",
        "    self.Wv = nn.Parameter(torch.empty(v_dim, d_model, **kwargs))\n",
        "    nn.init.xavier_uniform_(self.Wv)\n",
        "    self.bv = nn.Parameter(torch.zeros(v_dim, **kwargs))\n",
        "\n",
        "  def forward(self, x):\n",
        "    \"\"\"\n",
        "    input: Tensor of shape (N, T, D)\n",
        "    output: Tensor of shape (N, T, v_dim)\n",
        "    \"\"\"\n",
        "    Q = F.linear(x, self.Wq, self.bq)\n",
        "    K = F.linear(x, self.Wk, self.bk)\n",
        "    V = F.linear(x, self.Wv, self.bv)\n",
        "    similarity_score = (Q.matmul(K.transpose(-2,-1))/self.q_dim**0.5)\n",
        "    if self.has_mask:\n",
        "      mask = create_mask(similarity_score.shape[-1], **self.kwargs)\n",
        "      similarity_score = similarity_score + mask\n",
        "    return F.softmax(similarity_score, dim=-1).matmul(V)\n"
      ]
    },
    {
      "cell_type": "code",
      "execution_count": null,
      "metadata": {
        "colab": {
          "base_uri": "https://localhost:8080/"
        },
        "id": "Qeqj3s1jIZmH",
        "outputId": "6075628f-f5b9-430c-a1ff-7abc9020bb7d"
      },
      "outputs": [
        {
          "output_type": "execute_result",
          "data": {
            "text/plain": [
              "torch.Size([100, 8, 9])"
            ]
          },
          "metadata": {},
          "execution_count": 9
        }
      ],
      "source": [
        "N, T, D, Vdim = 100, 8, 7, 9\n",
        "x = torch.ones(N, T, D, **factory_kwargs)\n",
        "\n",
        "AL = AttentionLayer(D, Vdim, **factory_kwargs)\n",
        "AL(x).shape # Result must be of size (N, T, Vdim)"
      ]
    },
    {
      "cell_type": "code",
      "execution_count": null,
      "metadata": {
        "id": "OxW5cI5675Kd"
      },
      "outputs": [],
      "source": [
        "class MultiheadAttention(nn.Module):\n",
        "  \"\"\"A layer which runs n_heads self-attention heads in parallell and stacks their\n",
        "  output in a single tensor\"\"\"\n",
        "\n",
        "  def __init__(self, n_heads, d_model, self_mask=True, q_dim=None,\n",
        "               device=\"cpu\", dtype=torch.float):\n",
        "    super().__init__()\n",
        "    kwargs = {\"device\": device, \"dtype\": dtype}\n",
        "    assert d_model%n_heads == 0, \"Dimension of the model must be divisible by n_heads\"\n",
        "    v_dim = d_model//n_heads\n",
        "\n",
        "    self.Wo = nn.Parameter(torch.empty(d_model, n_heads*v_dim, **kwargs))\n",
        "    nn.init.xavier_uniform_(self.Wo)\n",
        "    self.heads = []\n",
        "    for _ in range(n_heads):\n",
        "      self.heads.append(AttentionLayer(d_model, v_dim, self_mask, q_dim, **kwargs))\n",
        "\n",
        "\n",
        "  def forward(self, x):\n",
        "    \"\"\"\n",
        "    input: Tensor of shape (N, T, D)\n",
        "    output: Tensor of shape (N, T, q_dim*n_heads)\"\"\"\n",
        "    head_results = []\n",
        "    for head in self.heads:\n",
        "      head_results.append(head(x))\n",
        "    return F.linear(torch.cat(head_results, dim=-1), self.Wo)"
      ]
    },
    {
      "cell_type": "code",
      "execution_count": null,
      "metadata": {
        "colab": {
          "base_uri": "https://localhost:8080/"
        },
        "id": "QQ3P7KB_-d3_",
        "outputId": "f899fe9e-040b-4137-c867-f0807479f704"
      },
      "outputs": [
        {
          "output_type": "stream",
          "name": "stdout",
          "text": [
            "torch.Size([100, 15, 8])\n"
          ]
        }
      ],
      "source": [
        "N, T, D, n_heads = 100, 15, 8, 2\n",
        "x = torch.zeros(N, T, D, **factory_kwargs)\n",
        "\n",
        "MHA = MultiheadAttention(n_heads, D, **factory_kwargs)\n",
        "assert MHA(x).shape == x.shape # Input and output must be the same size for residual connection\n",
        "print(x.shape)"
      ]
    },
    {
      "cell_type": "markdown",
      "metadata": {
        "id": "7hzLWhnZ5PLe"
      },
      "source": [
        "## Transformer Classes"
      ]
    },
    {
      "cell_type": "code",
      "execution_count": null,
      "metadata": {
        "id": "tp8U7usnU5RA"
      },
      "outputs": [],
      "source": [
        "class LayerNorm(nn.Module):\n",
        "  \"\"\"A layer normalization layer\"\"\"\n",
        "\n",
        "  def __init__(self, n_features, device=\"cpu\", dtype=torch.float):\n",
        "    super().__init__()\n",
        "    kwargs = {\"device\":device, \"dtype\": dtype}\n",
        "\n",
        "    self.beta = nn.Parameter(torch.zeros(n_features, **kwargs))\n",
        "    self.gamma = nn.Parameter(torch.ones(n_features, **kwargs))\n",
        "\n",
        "  def forward(self, x):\n",
        "    \"\"\"\n",
        "    input: Tensor of shape (N, T, D)\n",
        "    output: Tensor of shape (N, T, D)\n",
        "    \"\"\"\n",
        "    x = (x - x.mean(dim=-1, keepdim=True))/x.std(dim=-1, keepdim=True)\n",
        "    return self.gamma*x - self.beta"
      ]
    },
    {
      "cell_type": "code",
      "execution_count": null,
      "metadata": {
        "id": "JEGY2Im1kmws"
      },
      "outputs": [],
      "source": [
        "class TransformerBlock(nn.Module):\n",
        "  \"\"\"A Transformer block composed of a multi-headed self-attention layer followed by\n",
        "  a fully connected feed-forward network. In addition, each block is surrounded by\n",
        "  residual connections and feeds into a layer normalization component.\"\"\"\n",
        "\n",
        "  def __init__(self, n_heads, d_model, hidden_dim, self_mask=True, q_dim=None, device=\"cpu\",\n",
        "               dtype=torch.float):\n",
        "    super().__init__()\n",
        "    kwargs = {\"device\":device, \"dtype\": dtype}\n",
        "\n",
        "    self.attention = MultiheadAttention(n_heads, d_model, self_mask, q_dim, **kwargs)\n",
        "    self.batchnorm1 = LayerNorm(d_model, **kwargs)\n",
        "    self.linear1 = nn.Linear(d_model, hidden_dim, **kwargs)\n",
        "    self.linear2 = nn.Linear(hidden_dim, d_model, **kwargs)\n",
        "    self.batchnorm2 = LayerNorm(d_model, **kwargs)\n",
        "    self.dropout = nn.Dropout(p=0.1)\n",
        "\n",
        "  def forward(self, x):\n",
        "    \"\"\"\n",
        "    input: Tensor of shape (N, T, D)\n",
        "    output: Tensor of shape (N, T, D)\n",
        "    \"\"\"\n",
        "    attention_out = self.dropout(self.attention(x))\n",
        "    x = self.batchnorm1(attention_out + x)\n",
        "    linear_out = self.dropout(F.relu(self.linear2(F.relu(self.linear1(x)))))\n",
        "    return self.batchnorm2(linear_out + x)"
      ]
    },
    {
      "cell_type": "code",
      "execution_count": null,
      "metadata": {
        "colab": {
          "base_uri": "https://localhost:8080/"
        },
        "id": "2aq2XwbAZuwN",
        "outputId": "bff6f384-2ad2-40b9-ebf2-31ff36011422"
      },
      "outputs": [
        {
          "output_type": "execute_result",
          "data": {
            "text/plain": [
              "torch.Size([100, 15, 40])"
            ]
          },
          "metadata": {},
          "execution_count": 14
        }
      ],
      "source": [
        "N, T, D, n_heads, H = 100, 15, 40, 4, 30\n",
        "x = torch.zeros(N, T, D, **factory_kwargs)\n",
        "\n",
        "TB = TransformerBlock(n_heads, D, H, **factory_kwargs)\n",
        "TB(x).shape"
      ]
    },
    {
      "cell_type": "code",
      "execution_count": null,
      "metadata": {
        "id": "2-xgLrI9rtRX"
      },
      "outputs": [],
      "source": [
        "class Transformer(nn.Module):\n",
        "  \"\"\"Encoder only Transformer which starts with a layer of learned embedding\n",
        "  vectors followed by positional encoding, n_blocks Transformer Blocks and a\n",
        "  fully connected feed-forward network. A more detailed description is found in\n",
        "  Vaswani et al. (2017). Attention is all you need\"\"\"\n",
        "\n",
        "  def __init__(self, n_blocks, n_heads, d_model, hidden_dim, len_vocab,\n",
        "               q_dim=None, self_mask=True, device=\"cpu\", dtype=torch.float):\n",
        "\n",
        "    super().__init__()\n",
        "    self.kwargs = {\"device\": device, \"dtype\": dtype}\n",
        "\n",
        "    blocks = [TransformerBlock(n_heads, d_model, hidden_dim, self_mask, q_dim, **self.kwargs)\n",
        "              for _ in range(n_blocks)]\n",
        "\n",
        "    self.net = nn.Sequential(Embedding(d_model, len_vocab, **self.kwargs),\n",
        "                             PositionalEmbedding(d_model, **self.kwargs),\n",
        "                             *blocks,\n",
        "                              nn.Linear(d_model, len_vocab, **self.kwargs))\n",
        "    self.d_model = d_model\n",
        "\n",
        "  def forward(self, x):\n",
        "    \"\"\"\n",
        "    input: Tensor of shape (N, T) composed of integers from 0 to V\n",
        "    output: Tensor of shape (N, T, V)\n",
        "    \"\"\"\n",
        "    return self.net(x)\n"
      ]
    },
    {
      "cell_type": "code",
      "execution_count": null,
      "metadata": {
        "colab": {
          "base_uri": "https://localhost:8080/"
        },
        "id": "emwidTc2s_O9",
        "outputId": "a2aae05d-b278-4a7a-f3e6-b54558d5ded3"
      },
      "outputs": [
        {
          "output_type": "execute_result",
          "data": {
            "text/plain": [
              "torch.Size([3, 35, 91])"
            ]
          },
          "metadata": {},
          "execution_count": 16
        }
      ],
      "source": [
        "N, T, D = 3, 35, 8\n",
        "vocab, n_heads, n_blocks, H = 91, 2, 4, 30\n",
        "x = torch.randint(low=0, high=vocab, size=(N,T), device=factory_kwargs[\"device\"])\n",
        "\n",
        "T = Transformer(n_blocks, n_heads, D, hidden_dim=H,\n",
        "                len_vocab=vocab, **factory_kwargs)\n",
        "T(x).shape"
      ]
    },
    {
      "cell_type": "markdown",
      "metadata": {
        "id": "047SPrATeUQO"
      },
      "source": [
        "# Testing the Transformer"
      ]
    },
    {
      "cell_type": "markdown",
      "metadata": {
        "id": "uOTlBj5deUQW"
      },
      "source": [
        "## Defining helper classes and data functions\n"
      ]
    },
    {
      "cell_type": "code",
      "execution_count": null,
      "metadata": {
        "id": "YjwtwgpXeUQW"
      },
      "outputs": [],
      "source": [
        "import random\n",
        "from math import ceil\n",
        "import re\n",
        "\n",
        "def get_src_tgt(data):\n",
        "  \"\"\"Divide data sequences into a source (input to the model) and a target (the\n",
        "  sequence to be predicted). It assumes that data is a Tensor object or has a dim() function\"\"\"\n",
        "  return (data[:,:-1], data[:,1:])\n",
        "\n",
        "class Solver():\n",
        "\n",
        "  def __init__(self, model, data, optimizer, val_frac=0.2):\n",
        "    \"\"\"\n",
        "    A class with several tools to train and evaluate a model. As it trains it\n",
        "    stores the loss after every step and the training and validation accuracy\n",
        "    after every epoch\n",
        "\n",
        "    Input:\n",
        "    model: The model to be trained\n",
        "    data: A data object that can be indexed to obtain training and validation data\n",
        "    for the model\n",
        "    optimizer: An optimizer object that allows us to update the model parameters\n",
        "    val_frac: The fraction of data used for validation\n",
        "    \"\"\"\n",
        "    self.model = model\n",
        "    self.data = data\n",
        "    self.optimizer = optimizer\n",
        "    self.data_len = len(data)\n",
        "    self.train_data_len = int((1-val_frac)*self.data_len)\n",
        "    self.train_acc = []\n",
        "    self.val_acc = []\n",
        "    self.loss_hist = []\n",
        "    self.steps = 0\n",
        "\n",
        "    # We calculate train_acc only on 10% of the training set or 1000 examples\n",
        "    k = min(1000, self.train_data_len//10)\n",
        "    self.sample_train_idx = random.choices(range(self.data_len), k=k)\n",
        "    self.val_data_idx = slice(self.train_data_len, self.data_len)\n",
        "\n",
        "  def train(self, n_epochs=1, batch_size=128, print_every=1, warmup=None,\n",
        "            verbose=True):\n",
        "    \"\"\"\n",
        "    Input:\n",
        "    n_epochs (float): Number of epochs to train for\n",
        "    batch_size: Batch size\n",
        "    print_every (float): If verbose=True, indicates the number of epochs in training\n",
        "    before printing the loss, training accuracy and validation accuracy\n",
        "    warmup: If not None, indicates the number of warmup steps for the learning\n",
        "    rate schedule used in _Attention is All You Need_\n",
        "    verbose: Whether to print updates on the performance of the model\n",
        "    \"\"\"\n",
        "\n",
        "    D = self.model.d_model\n",
        "    epoch_size = self.train_data_len\n",
        "    steps_per_epoch = epoch_size//batch_size\n",
        "    epoch = 0\n",
        "\n",
        "    if type(print_every) == float:\n",
        "      print_every_steps = ceil(print_every*steps_per_epoch)\n",
        "      print_every = 1\n",
        "    else:\n",
        "      print_every_steps = 1e20\n",
        "\n",
        "    i = 0\n",
        "    while self.steps < n_epochs*steps_per_epoch:\n",
        "      batch = self.data[i*batch_size:(i+1)*batch_size]\n",
        "      src, tgt = get_src_tgt(batch)\n",
        "      loss = self.train_step(src, tgt)\n",
        "      self.steps += 1\n",
        "      self.loss_hist.append(loss.item())\n",
        "\n",
        "      if warmup != None:\n",
        "        lr = (D**-.5)*min(self.steps**(-.5), self.steps*(warmup**(-1.5)))\n",
        "        for g in self.optimizer.param_groups:\n",
        "          g['lr'] = lr\n",
        "\n",
        "      if verbose and self.steps%print_every_steps == 0:\n",
        "        print(f\"Epoch {round(self.steps/steps_per_epoch, 3)}. Loss {round(loss.item(), 4)}\")\n",
        "        print(f\"Memory Allocated: {torch.cuda.memory_allocated(0)/10**9} GB\")\n",
        "\n",
        "      i += 1\n",
        "      # Restart the counter after every epoch\n",
        "      if i >= steps_per_epoch:\n",
        "        i = 0\n",
        "        epoch += 1\n",
        "\n",
        "        train_acc_e = self.eval(self.sample_train_idx)\n",
        "        self.train_acc.append(train_acc_e)\n",
        "        val_acc_e = self.eval(self.val_data_idx)\n",
        "        self.val_acc.append(val_acc_e)\n",
        "\n",
        "        if verbose and epoch%print_every == 0:\n",
        "          print(f\"Epoch {epoch}. Loss {round(loss.item(), 4)}\", end=\" // \")\n",
        "          print(f\"Train Acc: {train_acc_e}. Val Acc: {val_acc_e}\")\n",
        "\n",
        "  @torch.no_grad()\n",
        "  def eval(self, eval_idx, print_sample=False, vocab=None):\n",
        "    \"\"\"\n",
        "    Returns the accuracy of the model on self.data[eval_idx].\n",
        "    If print_sample is True, it prints a comparison between a randomly chosen\n",
        "    target sequence and the prediction of the model.\n",
        "    If vocab is not None, it uses the vocab object to map the integers in the\n",
        "    predicted sequence to words.\n",
        "    \"\"\"\n",
        "    self.model.eval()\n",
        "\n",
        "    src, tgt = get_src_tgt(self.data[eval_idx])\n",
        "    logits = self.model(src)\n",
        "    logits_max, logits_pos = logits.max(dim=-1)\n",
        "    eval_acc = (logits_pos == tgt).to(torch.float).mean().item()\n",
        "    eval_acc = round(eval_acc, 3)\n",
        "\n",
        "    if print_sample:\n",
        "      i = random.choice(range(tgt.shape[0]))\n",
        "      if vocab != None:\n",
        "        print(f\"Original: \\n{''.join(vocab.lookup_tokens(tgt[i].tolist()))}\")\n",
        "        print(f\"Modelo: \\n{''.join(vocab.lookup_tokens(logits_pos[i].tolist()))}\")\n",
        "      else:\n",
        "        print(f\"Original: \\n{tgt[i]} \\nModelo: \\n{logits_pos[i]}\")\n",
        "\n",
        "    return eval_acc\n",
        "\n",
        "  # For the implementation of this function I took significant inspiration from\n",
        "  # https://github.com/ckkissane/deep_learning_curriculum/blob/master/solutions/1_Transformers.ipynb\n",
        "\n",
        "  def get_top_k(self, logits, k):\n",
        "    values, idx = torch.topk(logits, k, dim=-1)\n",
        "    out = torch.ones_like(logits)\n",
        "    out = out*(-float(\"inf\"))\n",
        "    out[:, idx] = logits[:, idx]\n",
        "    return out\n",
        "\n",
        "  @torch.no_grad()\n",
        "  def sample(self, context, steps, T, top_k, temperature=1, vocab=None):\n",
        "    self.model.eval()\n",
        "    if vocab != None:\n",
        "      context = vocab.lookup_indices(re.split(r\"\\b\", context))\n",
        "      x = torch.Tensor(context).to(torch.long).to(self.model.kwargs[\"device\"])\n",
        "    else:\n",
        "      x = context\n",
        "\n",
        "    # I make sure that x has shape (N, T) even if N = 1\n",
        "    if x.dim() == 1:\n",
        "      x = x.unsqueeze(0)\n",
        "\n",
        "    for i in range(steps):\n",
        "      x_end = x if x.shape[1] < T else x[:, -T:]\n",
        "      logits = self.model(x_end)\n",
        "      logits = logits[:, -1, :]/temperature\n",
        "      logits = self.get_top_k(logits, top_k)\n",
        "      probs = F.softmax(logits, dim=-1)\n",
        "      comp_x = torch.multinomial(probs, num_samples=1)\n",
        "      x = torch.cat([x, comp_x], dim=1)\n",
        "\n",
        "    if vocab != None:\n",
        "      return [\"\".join(vocab.lookup_tokens(seq)) for seq in x.tolist()]\n",
        "    return x\n",
        "\n",
        "  # def export_predictions(self, file_name, eval_idx, vocab):\n",
        "  #   self.model.eval()\n",
        "  #   with torch.no_grad():\n",
        "  #     src, tgt = get_src_tgt(eval_idx)\n",
        "  #     out = self.model(src)\n",
        "  #     out_max, out_pos = out.max(dim=-1)\n",
        "\n",
        "  #   with open(file_name, \"w\") as file:\n",
        "  #     for i in range(out.shape[0]):\n",
        "  #       line1 = ''.join(vocab.lookup_tokens(tgt[i].tolist()))\n",
        "  #       line2 = ''.join(vocab.lookup_tokens(out_pos[i].tolist()))\n",
        "  #       file.write(\"Original: \" + re.sub(\"(<null>)*\", \"\", line1) + \"\\n\")\n",
        "  #       file.write(\"Modelo: \" + re.sub(\"(<null>)*\", \"\", line2) + \"\\n\")\n",
        "\n",
        "  def train_step(self, src, tgt):\n",
        "    \"\"\"Performs a training step on a mini-batch characterized by src and tgt\"\"\"\n",
        "    self.model.train()\n",
        "    self.optimizer.zero_grad()\n",
        "    logits = self.model(src)\n",
        "    if logits.shape[-1] != tgt.shape[-1]: # Because I don't follow the torch convention\n",
        "      logits = logits.transpose(-2, -1)\n",
        "    loss = F.cross_entropy(logits, tgt)\n",
        "    loss.backward()\n",
        "    self.optimizer.step()\n",
        "    return loss\n",
        "\n",
        "\n",
        "def gen_data_simple_string(N, T, vocab_len, weight=None, device=\"cpu\", dtype=torch.int64):\n",
        "  \"\"\"Outputs N sequences of integers from 0 to vocab_len. Each sequence has length\n",
        "  T and is padded with 0s at the extremes. If weight is None each integer is just\n",
        "  as likely as any other\"\"\"\n",
        "  sequences = []\n",
        "  for _ in range(N):\n",
        "    seq = random.choices(range(1, vocab_len), weights=weight, k=T)\n",
        "    seq = torch.Tensor([0] + seq + [0]).to(torch.int64).to(device)\n",
        "    sequences.append(seq)\n",
        "  return torch.stack(sequences, dim=0)\n",
        "\n",
        "def gen_data_reverse_string(N, T, vocab_len, device=\"cpu\", dtype=torch.int64):\n",
        "  \"\"\"Outputs N symmetric sequences of integers from 0 to vocab_len.\n",
        "  Each sequence has length T and is padded with 0s at the extremes. Each integer\n",
        "  is just as likely as any other in the first half of the string\"\"\"\n",
        "  sequences = []\n",
        "  for _ in range(N):\n",
        "    seq = random.choices(range(1, vocab_len), k=(T-2)//2)\n",
        "    seq_reverse = seq.copy()\n",
        "    seq_reverse.reverse()\n",
        "    seq = torch.Tensor(tuple([0] + seq + seq_reverse + [0])).to(torch.int64).to(device)\n",
        "    sequences.append(seq)\n",
        "  return torch.stack(sequences, dim=0)"
      ]
    },
    {
      "cell_type": "code",
      "source": [],
      "metadata": {
        "id": "9F0PZag2eUQX"
      },
      "execution_count": null,
      "outputs": []
    },
    {
      "cell_type": "code",
      "execution_count": null,
      "metadata": {
        "id": "1wnVsuJ3eUQX",
        "colab": {
          "base_uri": "https://localhost:8080/"
        },
        "outputId": "038d8656-2de4-4307-f186-ffcffb2a3e03"
      },
      "outputs": [
        {
          "output_type": "stream",
          "name": "stdout",
          "text": [
            "tensor([[0, 3, 4, 4, 2, 2, 0],\n",
            "        [0, 4, 2, 2, 4, 4, 0],\n",
            "        [0, 2, 2, 2, 3, 1, 0]])\n",
            "tensor([[0, 2, 2, 1, 1, 2, 2, 0],\n",
            "        [0, 2, 4, 4, 4, 4, 2, 0],\n",
            "        [0, 4, 3, 2, 2, 3, 4, 0]])\n"
          ]
        }
      ],
      "source": [
        "print(gen_data_simple_string(3, 5, 5))\n",
        "print(gen_data_reverse_string(3, 8, 5))"
      ]
    },
    {
      "cell_type": "markdown",
      "metadata": {
        "id": "ahuGBIRseUQX"
      },
      "source": [
        "## Testing on simple sequences"
      ]
    },
    {
      "cell_type": "markdown",
      "metadata": {
        "id": "KxVM2DileUQX"
      },
      "source": [
        "We check that the Transformer can learn the identity function. Given that we're not using masks it should be able to get perfect accuracy on the task."
      ]
    },
    {
      "cell_type": "code",
      "execution_count": null,
      "metadata": {
        "id": "qfGQrjCkeUQY"
      },
      "outputs": [],
      "source": [
        "random.seed(0)\n",
        "\n",
        "N, T, D, V = 5000, 12, 64, 9\n",
        "n_blocks, n_heads, H = 2, 4, 100\n",
        "model1 = Transformer(n_blocks, n_heads, D, hidden_dim=D, len_vocab=V, self_mask=False,\n",
        "                       **factory_kwargs)\n",
        "\n",
        "weight = [random.random() for _ in range(V-1)]\n",
        "data = gen_data_simple_string(N, T, V, weight, **factory_kwargs)\n",
        "optimizer = optim.Adam(model1.parameters(), lr=1e-2)\n",
        "\n",
        "solver = Solver(model1, data, optimizer)\n",
        "solver.train(n_epochs=5)"
      ]
    },
    {
      "cell_type": "code",
      "execution_count": null,
      "metadata": {
        "id": "NlBbK4sleUQY"
      },
      "outputs": [],
      "source": [
        "test = slice(-5, -1)\n",
        "solver.eval(test, print_sample=True)"
      ]
    },
    {
      "cell_type": "markdown",
      "metadata": {
        "id": "HAJc4bTNeUQY"
      },
      "source": [
        "We check the mask works correctly by predicting symmetrical strings. The model should be able to predict only the second part of the string (by mirroring the first part). Absent overfitting, the model should on average have an accuracy of 60% for the parameters given (a little larger than 50% because it can correctly predict some tokens on the first part of the string by chance)"
      ]
    },
    {
      "cell_type": "code",
      "execution_count": null,
      "metadata": {
        "id": "qgjPutm2eUQY"
      },
      "outputs": [],
      "source": [
        "random.seed(0)\n",
        "\n",
        "N, T, D, V = 5000, 12, 64, 9\n",
        "n_blocks, n_heads, H = 2, 4, 100\n",
        "\n",
        "model2 = Transformer(n_blocks, n_heads, D, hidden_dim=D, len_vocab=V,\n",
        "                       **factory_kwargs)\n",
        "\n",
        "data = gen_data_reverse_string(N, T, V, **factory_kwargs)\n",
        "optimizer = optim.Adam(model2.parameters(), lr=1e-2)\n",
        "solver = Solver(model2, data, optimizer)\n",
        "solver.train(n_epochs=8)\n",
        "print(\"Max Possible Acc: \", round((T + T/(V-1) - 2/(V-1))/(2*(T-1)), 3))"
      ]
    },
    {
      "cell_type": "code",
      "execution_count": null,
      "metadata": {
        "id": "s-BvQj6PeUQY"
      },
      "outputs": [],
      "source": [
        "test = slice(-5,-1)\n",
        "solver.eval(test, print_sample=True)"
      ]
    },
    {
      "cell_type": "code",
      "source": [
        "x = torch.Tensor([0, 1, 2, 3, 4, 5]).to(factory_kwargs[\"device\"]).to(torch.long)\n",
        "solver.sample(x, steps=6, T=T, top_k=1)"
      ],
      "metadata": {
        "id": "vgWSo7FFeUQY"
      },
      "execution_count": null,
      "outputs": []
    },
    {
      "cell_type": "markdown",
      "metadata": {
        "id": "1G7zx8MnX4ml"
      },
      "source": [
        "# Imitating Shakespeare"
      ]
    },
    {
      "cell_type": "markdown",
      "source": [
        "### Downloading text and parsing it"
      ],
      "metadata": {
        "id": "ep0exRebWlU3"
      }
    },
    {
      "cell_type": "code",
      "execution_count": null,
      "metadata": {
        "id": "xzJHS0HkYoIp"
      },
      "outputs": [],
      "source": [
        "from urllib.request import urlopen\n",
        "import re\n",
        "from collections import Counter, OrderedDict\n",
        "from torchtext.vocab import vocab\n",
        "from torch.utils.data import Dataset, DataLoader\n",
        "import numpy as np\n",
        "from matplotlib import pyplot as plt"
      ]
    },
    {
      "cell_type": "code",
      "source": [
        "# Download the complete works of Shakespeare\n",
        "url = urlopen(\"https://www.gutenberg.org/files/100/100-0.txt\")\n",
        "book = url.read().decode('utf-8')\n",
        "start = re.search(\"From fairest\", book).start()\n",
        "book = book[start:] # Skip the file description\n",
        "tokenized = re.split(r\"\\b\", book)"
      ],
      "metadata": {
        "id": "7rujdbHfPkF4"
      },
      "execution_count": null,
      "outputs": []
    },
    {
      "cell_type": "code",
      "source": [
        "tokenized[:20]"
      ],
      "metadata": {
        "colab": {
          "base_uri": "https://localhost:8080/"
        },
        "id": "1sFpf_jRbAvu",
        "outputId": "d5c7028b-65e6-45d3-f0fe-06d489e6bf30"
      },
      "execution_count": null,
      "outputs": [
        {
          "output_type": "execute_result",
          "data": {
            "text/plain": [
              "['',\n",
              " 'From',\n",
              " ' ',\n",
              " 'fairest',\n",
              " ' ',\n",
              " 'creatures',\n",
              " ' ',\n",
              " 'we',\n",
              " ' ',\n",
              " 'desire',\n",
              " ' ',\n",
              " 'increase',\n",
              " ',\\r\\n',\n",
              " 'That',\n",
              " ' ',\n",
              " 'thereby',\n",
              " ' ',\n",
              " 'beauty',\n",
              " '’',\n",
              " 's']"
            ]
          },
          "metadata": {},
          "execution_count": 21
        }
      ]
    },
    {
      "cell_type": "code",
      "source": [
        "# I only include tokens that appear at least twice because it makes the model train\n",
        "# like 40% faster. It amounts to cutting the number of tokens in half\n",
        "token_counter = OrderedDict(Counter(tokenized))\n",
        "vocab1 = vocab(token_counter, min_freq=2, specials=['<unk>', \"<null>\"])\n",
        "vocab1.set_default_index(vocab1[\"<unk>\"])\n",
        "print(\"Number of words in the the collected works: \", len(tokenized))\n",
        "print(\"Length of the vocabulary: \", len(vocab1))"
      ],
      "metadata": {
        "id": "-lqa2CoDc5NG",
        "colab": {
          "base_uri": "https://localhost:8080/"
        },
        "outputId": "7e401503-a124-43ac-e487-e5cba2d5168e"
      },
      "execution_count": null,
      "outputs": [
        {
          "output_type": "stream",
          "name": "stdout",
          "text": [
            "Number of words in the the collected works:  1987529\n",
            "Length of the vocabulary:  20310\n"
          ]
        }
      ]
    },
    {
      "cell_type": "code",
      "source": [
        "class ShakespeareDataset():\n",
        "  \"\"\"A dataset object which can be indexed to sample N sequences of length T from\n",
        "  vocab[text] (the integers that map through vocab to the original text)\n",
        "\n",
        "  When you index the Dataset object, the index is randomly mapped to another integer\n",
        "  from 0 to N, which is used to index T consecutive positions in vocab[text].\n",
        "  Additionally, each sequence is padded at both sides with vocab[\"null\"].\n",
        "\n",
        "  If N is not specified, the class uses the maximum number of different sequences\n",
        "  that it can create from the original text using the previous procedure\n",
        "  (roughly the number of tokens in the text) \"\"\"\n",
        "  def __init__(self, T, text=tokenized, vocab=vocab1, pad_token=\"<null>\",\n",
        "               N=None, dtype=torch.long, device=\"cpu\"):\n",
        "    self.seq_len = T\n",
        "    self.size = N\n",
        "    self.transform = lambda l: torch.Tensor(l).to(dtype).to(device)\n",
        "    self.corpus = self.transform(vocab.lookup_indices(text))\n",
        "    self.pad_token = self.transform([vocab[pad_token]])\n",
        "    self.shuffle_map = torch.randperm(len(self)).numpy()\n",
        "\n",
        "  def __len__(self):\n",
        "    if self.size == None:\n",
        "      return len(self.corpus) - self.seq_len\n",
        "    else:\n",
        "      return self.size\n",
        "\n",
        "  def __getitem__(self, idx):\n",
        "    if isinstance(idx, int):\n",
        "      idx_shuffle = self.shuffle_map[idx]\n",
        "      text = self.corpus[idx_shuffle:idx_shuffle+self.seq_len]\n",
        "      padded_text = torch.cat([self.pad_token, text, self.pad_token])\n",
        "      return padded_text\n",
        "    elif isinstance(idx, slice) or isinstance(idx, list):\n",
        "      data = []\n",
        "      for i in self.shuffle_map[idx]:\n",
        "        text = self.corpus[i:i+self.seq_len]\n",
        "        padded_text = torch.cat([self.pad_token, text, self.pad_token])\n",
        "        data.append(padded_text)\n",
        "      return torch.stack(data, dim=0)\n",
        "    else:\n",
        "      raise Exception(f\"__getitem__ not implemented for type {type(idx)}\")"
      ],
      "metadata": {
        "id": "hwt0jkhTXpEj"
      },
      "execution_count": null,
      "outputs": []
    },
    {
      "cell_type": "markdown",
      "source": [
        "### Learning from Shakespeare"
      ],
      "metadata": {
        "id": "TDPrDMxJWsl3"
      }
    },
    {
      "cell_type": "markdown",
      "source": [
        "First we train it for only in a small fraction of the data to make sure that the model starts reducing the loss. Sometimes the models gets stuck in a policy of predicting only blank spaces  "
      ],
      "metadata": {
        "id": "b3lXAqZRUivj"
      }
    },
    {
      "cell_type": "code",
      "execution_count": null,
      "metadata": {
        "id": "dt5a4TXbJ5tK",
        "colab": {
          "base_uri": "https://localhost:8080/"
        },
        "outputId": "c83d0fed-7762-49d2-ef3e-30c013bea39c"
      },
      "outputs": [
        {
          "output_type": "stream",
          "name": "stdout",
          "text": [
            "Epoch 0.01. Loss 5.6451\n",
            "Memory Allocated: 0.464793088 GB\n",
            "Epoch 0.02. Loss 4.9987\n",
            "Memory Allocated: 0.464793088 GB\n",
            "Epoch 0.03. Loss 4.9574\n",
            "Memory Allocated: 0.464793088 GB\n",
            "Epoch 0.04. Loss 5.0297\n",
            "Memory Allocated: 0.464793088 GB\n",
            "Epoch 0.05. Loss 4.9329\n",
            "Memory Allocated: 0.464793088 GB\n",
            "Epoch 0.06. Loss 4.9827\n",
            "Memory Allocated: 0.464793088 GB\n",
            "Epoch 0.07. Loss 4.1894\n",
            "Memory Allocated: 0.464793088 GB\n",
            "Epoch 0.08. Loss 3.9962\n",
            "Memory Allocated: 0.464793088 GB\n",
            "Epoch 0.09. Loss 4.0174\n",
            "Memory Allocated: 0.464793088 GB\n",
            "Time training 0.1 epoch: 0:12:16.856011\n"
          ]
        }
      ],
      "source": [
        "from datetime import datetime\n",
        "\n",
        "data = ShakespeareDataset(T=64, device=factory_kwargs[\"device\"])\n",
        "N, T = len(data), 64\n",
        "\n",
        "D, V = 512, len(vocab1)\n",
        "n_blocks, n_heads, H = 6, 8, 2048\n",
        "\n",
        "model = Transformer(n_blocks, n_heads, D, hidden_dim=D, len_vocab=V,\n",
        "                       **factory_kwargs)\n",
        "\n",
        "optimizer = optim.Adam(model.parameters())\n",
        "solver = Solver(model, data, optimizer, val_frac=0.01)\n",
        "# The validation sample is small so it doesn't overflow the GPU's memory\n",
        "# (I haven't implemented evaluating the model in batches)\n",
        "\n",
        "start_time = datetime.now()\n",
        "solver.train(n_epochs=0.1, warmup=3000, print_every=0.01)\n",
        "end_time = datetime.now()\n",
        "print('Time training 0.1 epoch: {}'.format(end_time - start_time))"
      ]
    },
    {
      "cell_type": "code",
      "source": [
        "# Let's see how it's going\n",
        "context = \"This is it!\"\n",
        "print(solver.sample(context, steps=200, T=T, top_k=5, vocab=vocab1)[0])"
      ],
      "metadata": {
        "colab": {
          "base_uri": "https://localhost:8080/"
        },
        "id": "A3fTdhbBk2Kw",
        "outputId": "af581315-dac6-4089-b1d1-2ff8bfec7a19"
      },
      "execution_count": null,
      "outputs": [
        {
          "output_type": "stream",
          "name": "stdout",
          "text": [
            "<unk>This is it!KING, I, I you and not,\r\n",
            "I you is a lord and a <unk>,\r\n",
            "    The lord with the <unk> of the the <unk>,\r\n",
            "And to I I I the the <unk> of the man the <unk>,\r\n",
            "And the <unk> of <unk> the his the man of of his his <unk> of\r\n",
            "That a man of his a the the man <unk> and\r\n",
            "And’s man of the man <unk> of of <unk>,\r\n",
            "To of the the the world to and of the the his man,\r\n",
            "    But. That to the a man of the man.\r\n",
            "\r\n",
            "d the lord.\r\n",
            "\r\n",
            "_.\r\n",
            "      The lord \n"
          ]
        }
      ]
    },
    {
      "cell_type": "markdown",
      "source": [
        "And now let's train it for 1 epoch. I'd train it for longer, but it would involve policing Colab a lot to stop it from terminating the session.\n",
        "\n",
        "\n"
      ],
      "metadata": {
        "id": "09m9Hx0Tr3UU"
      }
    },
    {
      "cell_type": "code",
      "source": [
        "solver.train(n_epochs=1, warmup=3000, print_every=0.1)"
      ],
      "metadata": {
        "colab": {
          "base_uri": "https://localhost:8080/"
        },
        "id": "8AXPlLbFj-Rb",
        "outputId": "7b08b690-2eb9-4293-df51-ec474560af49"
      },
      "execution_count": null,
      "outputs": [
        {
          "output_type": "stream",
          "name": "stdout",
          "text": [
            "Epoch 0.2. Loss 3.4102\n",
            "Memory Allocated: 0.464793088 GB\n",
            "Epoch 0.3. Loss 3.079\n",
            "Memory Allocated: 0.464793088 GB\n",
            "Epoch 0.4. Loss 2.8036\n",
            "Memory Allocated: 0.464793088 GB\n",
            "Epoch 0.5. Loss 2.668\n",
            "Memory Allocated: 0.464793088 GB\n",
            "Epoch 0.6. Loss 2.5534\n",
            "Memory Allocated: 0.464793088 GB\n",
            "Epoch 0.7. Loss 2.4556\n",
            "Memory Allocated: 0.464793088 GB\n",
            "Epoch 0.8. Loss 2.39\n",
            "Memory Allocated: 0.464793088 GB\n",
            "Epoch 0.901. Loss 2.3055\n",
            "Memory Allocated: 0.464793088 GB\n",
            "Epoch 1.001. Loss 2.2536\n",
            "Memory Allocated: 0.464793088 GB\n"
          ]
        }
      ]
    },
    {
      "cell_type": "code",
      "source": [
        "context = \"This is it!\"\n",
        "print(solver.sample(context, steps=200, T=T, top_k=5, vocab=vocab1)[0])"
      ],
      "metadata": {
        "id": "lYot5vZmzqS0",
        "colab": {
          "base_uri": "https://localhost:8080/"
        },
        "outputId": "c835eada-1aa9-49cb-e2d7-771c331f951b"
      },
      "execution_count": null,
      "outputs": [
        {
          "output_type": "stream",
          "name": "stdout",
          "text": [
            "<unk>This is it!_] This is a god of love, I fear the shot out. I\r\n",
            "will be a pattern. Let him comply with the pikes. I am as the\r\n",
            "fishes in the moon, the highest compulsion of his endowments are to\r\n",
            "the trumpet, and besmear themselves to the Altar.\r\n",
            "\r\n",
            "FIRST SOLDIER.\r\n",
            "What is the matter that I am,\r\n",
            "That I might not wish the Turk?\r\n",
            "\r\n",
            "THIRD SOLDIER.\r\n",
            "Faith, he did; and he does’t not?\r\n",
            "\r\n",
            "FIRST CLOWN.\r\n",
            "He does, sir.\r\n",
            "\r\n",
            "FIRST CLOWN.\r\n",
            "Ay, he is mad, sir, he was not mad and drinking to say he was\r\n",
            "the hostess of a knave \n"
          ]
        }
      ]
    },
    {
      "cell_type": "code",
      "source": [
        "plt.plot(solver.loss_hist)\n",
        "plt.title(\"Loss history\")\n",
        "plt.xlabel(f\"Number of steps (1 epoch = {round(len(data)/128)} steps)\")\n",
        "_ = plt.ylabel(\"Loss\")"
      ],
      "metadata": {
        "id": "XIoAJELu0J5s",
        "colab": {
          "base_uri": "https://localhost:8080/",
          "height": 404
        },
        "outputId": "e3f53e48-1122-4e93-9bba-8b807f442e18"
      },
      "execution_count": null,
      "outputs": [
        {
          "output_type": "display_data",
          "data": {
            "text/plain": [
              "<Figure size 576x432 with 1 Axes>"
            ],
            "image/png": "[encoded data removed]"
          },
          "metadata": {
            "needs_background": "light"
          }
        }
      ]
    }
  ],
  "metadata": {
    "colab": {
      "collapsed_sections": [
        "_eO7FVxt4hGd",
        "7hzLWhnZ5PLe",
        "047SPrATeUQO",
        "1G7zx8MnX4ml"
      ],
      "provenance": []
    },
    "gpuClass": "standard",
    "kernelspec": {
      "display_name": "Python 3",
      "name": "python3"
    },
    "language_info": {
      "name": "python"
    },
    "accelerator": "GPU"
  },
  "nbformat": 4,
  "nbformat_minor": 0
}